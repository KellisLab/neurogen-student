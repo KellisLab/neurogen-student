{
 "cells": [
  {
   "cell_type": "markdown",
   "id": "ae3603de-ecc4-4d00-86ec-42780b32e881",
   "metadata": {},
   "source": [
    "# Problem Set 3 - Problem Prompt\n",
    "\n",
    "For this assignment you are provided single-cell data from 6 mice (3 zQ175 HD model mice, and 3 C57BL/6 controls). Your task is as follows: \n",
    "\n",
    "1. Starting from the clean pre-curated data preprocess, cluster, and annotate the cell types.\n",
    "2. Proceed with differential expression analysis (disease vs. control) for all the populations you annotated.\n",
    "3. Perform some enrichment analysis of your choice (e.g. biological pathways, chromatin enrichment) on your differential expression results. We have discussed a number of methods in both the problem sets and in lecture.\n",
    "\n",
    "In doing so, you will utilize most, if not all, of the tools and techniques that you have learned so far in the problem sets.\n",
    "\n",
    "You are provided with the following:\n",
    "\n",
    "1. A sparse count matrix (`counts.mtx`) cotaining 6 complete, pre-cleaned single nucleus data sets.\n",
    "2. A set of tables (`feature_data.tsv` and `sample_data.tsv`) containing essential gene and cell metadata for the count matrix.\n",
    "3. A minimal set of markers genes (`str_markers.csv`). This set is neither exhaustive of all cell types that may be present in the data (but it is sufficient), nor are all genes guaranteed to be excellent markers, so as to not make automated annotation entirely trivial.\n",
    "\n",
    "Researching different tools available for single-cell data analysis is also part of the problem. The teaching staff can help with this, if necessary.\n",
    "\n",
    "All of the data may be found in `~/neurogen-student/Assignment_3/data/p4_subsampled` if you already ran the tutorial in part 2. If not, run the cell at the bottom to download it.\n",
    "\n",
    "You may conduct your analysis using any tools or packages available in either R or Python. Reminder that you can install pretty much anything in your virtual machine, and should you need sudo to install required apt packages, the password is `neurogen`.\n",
    "\n",
    "Your deliverable should be an HTML or PDF render of your R or Jupyter notebook containing the following.\n",
    "\n",
    "1. Clear, sequentally run, and documented code showing any intermediate output necessary to follow and understand your workflow.\n",
    "2. Any approapriate visualizations of the data at critical steps.\n",
    "3. A summary or representative subset of the results from all 3 parts of the problem.\n",
    "\n",
    "In other words, pretend like you were going to do this analysis and then present the notebook to an audience.\n",
    "\n",
    "This is very open ended, so include whatever you feel is approriate to demonstrate that what you did and convince the reader that what you did was correct. You don't need to include 50 tables of results embedded within the document, but you may (and should) however submit, along with your document, any tables or figures containing relevant results.\n",
    "\n",
    "It may be very helpful to consult the assigned paper (since it's the same data) and the supplementary text and figures.\n",
    "\n",
    "Upload to the Canvas submission link a zipped file containing the R or Jupyter notebook (in HTML or PDF format) along with any other files containing relevant results or figures."
   ]
  },
  {
   "cell_type": "code",
   "execution_count": null,
   "id": "db8189ab-1eea-4614-b5a2-3bbd525c3f2f",
   "metadata": {},
   "outputs": [],
   "source": [
    "# Run this is you still need to download the data\n",
    "import os\n",
    "\n",
    "os.mkdir(\"data\")\n",
    "os.system(\"gsutil -m cp -r gs://neurogen-spring22-data/Assignment3/* data/\")"
   ]
  }
 ],
 "metadata": {
  "kernelspec": {
   "display_name": "Python 3 (ipykernel)",
   "language": "python",
   "name": "python3"
  },
  "language_info": {
   "codemirror_mode": {
    "name": "ipython",
    "version": 3
   },
   "file_extension": ".py",
   "mimetype": "text/x-python",
   "name": "python",
   "nbconvert_exporter": "python",
   "pygments_lexer": "ipython3",
   "version": "3.8.10"
  }
 },
 "nbformat": 4,
 "nbformat_minor": 5
}
